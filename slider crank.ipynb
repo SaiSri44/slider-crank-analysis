{
 "cells": [
  {
   "cell_type": "markdown",
   "metadata": {},
   "source": [
    "## Displacement and Velocity Analysis of Slider crank Mechanism"
   ]
  },
  {
   "cell_type": "code",
   "execution_count": null,
   "metadata": {},
   "outputs": [],
   "source": [
    "# this is the driver code which calculates the displacement and velocity values for the corresponding theta \n",
    "import math as m #math module to get the sin and cosine functions\n",
    "import matplotlib.pyplot as plt #matplotlib to plot the plots\n",
    "\n",
    "def displacement_analysis(theta, l, r): #this function will calculate the displacemet for the particular angle\n",
    "    n = l / r\n",
    "    displacement = [] \n",
    "    for angle in theta:\n",
    "        cos = m.cos(m.radians(angle))\n",
    "        sin = m.sin(m.radians(angle)) \n",
    "        displace = r * (1 - cos + (sin*sin)/(2*n))\n",
    "        displacement.append(displace) \n",
    "    return displacement \n",
    "def velocity_analysis(theta,l,r,w) :#this will calculate the velocity for particular angle\n",
    "    n = l/r\n",
    "    velocity = []\n",
    "    for angle in theta :\n",
    "          sin = m.sin(m.radians(angle)) \n",
    "          sin2 = m.sin(m.radians(2*angle)) \n",
    "          vel = r*w*(sin + (sin2/(2*n))) \n",
    "          velocity.append(vel)     \n",
    "    return velocity\n",
    "\n",
    "l = int(input(\"enter the length of the connecting rod : \"))\n",
    "r = int(input(\"enter the length of the crank : \"))\n",
    "w = int(input(\"enter the angular speed of the crank : \")) \n",
    "n = int(input(\"enter the no of rotations of the crank :  \")) \n",
    "#taking the parameters,the user should give the four parameters they are \n",
    "# 1.length of the crank\n",
    "# 2.length of the connecting rod\n",
    "# 3.Angular speed of the crank\n",
    "# 4.No of rotations of the crank\n",
    "theta = [i for i in range(n*360)] \n",
    "displacement = displacement_analysis(theta,l,r)\n",
    "velocity = velocity_analysis(theta,l,r,w)\n",
    "\n",
    "max_velocity = max(velocity)\n",
    "min_velocity = min(velocity) \n",
    "print()\n",
    "print()\n",
    "print(\"============Information====================\")\n",
    "print()\n",
    "print()\n",
    "print(\"crank length : \" , r,\"millimeters\")\n",
    "print(\"connecting rod length : \", l,\"millimeters\")\n",
    "print(\"Angular Speed of the crank is : \",w,\"rad/s\")\n",
    "print(\"no of rotations is : \",n)\n",
    "print()\n",
    "print(\"Maximum  displacement is : \" ,l ,\"millimeters\") \n",
    "\n",
    "\n",
    "\n",
    "\n"
   ]
  },
  {
   "cell_type": "markdown",
   "metadata": {},
   "source": [
    "## Linear displacement of slider Vs Angular Position of Crank"
   ]
  },
  {
   "cell_type": "code",
   "execution_count": null,
   "metadata": {},
   "outputs": [],
   "source": [
    "# --------------graph of  displacement-----------------\n",
    "\n",
    "plt.plot(theta,displacement)\n",
    "plt.xlabel(\"Angular position of the crank(degrees)\")\n",
    "plt.ylabel(\"linear displacement of the slider(mm)\")\n",
    "plt.title(\"Displacement Analysis\");"
   ]
  },
  {
   "cell_type": "markdown",
   "metadata": {},
   "source": [
    "## Linear Velocity of slider Vs Angular Position of Crank"
   ]
  },
  {
   "cell_type": "code",
   "execution_count": null,
   "metadata": {},
   "outputs": [],
   "source": [
    "# -----------graph of velocity---------------\n",
    "plt.plot(theta,velocity)\n",
    "plt.xlabel(\"Angular position of the crank(degrees)\")\n",
    "plt.ylabel(\"linear velocity of the slider in(mm/s)\") \n",
    "plt.title(\"Velocity Analysis\");\n",
    "\n",
    "print(\"============Information====================\")\n",
    "print()\n",
    "print()\n",
    "\n",
    "print(\"Minimum velocity is  : \" ,min_velocity,'mm/s')\n",
    "print(\"Maximum velocity is :  \",max_velocity,\"mm/s\")"
   ]
  },
  {
   "cell_type": "markdown",
   "metadata": {},
   "source": [
    "## Linear displacement and linear velocity at particular angle "
   ]
  },
  {
   "cell_type": "code",
   "execution_count": null,
   "metadata": {},
   "outputs": [],
   "source": [
    "angle = int(input(\"enter the crank angle :  \"))\n",
    "print(\"displacement of the slider at that angle is : \" , displacement_analysis([angle],l,r))\n",
    "print(\"velocity of the slider at that angle is : \" , velocity_analysis([angle],l,r,w)) "
   ]
  },
  {
   "cell_type": "markdown",
   "metadata": {},
   "source": [
    "## Data used for plotting"
   ]
  },
  {
   "cell_type": "code",
   "execution_count": null,
   "metadata": {},
   "outputs": [],
   "source": [
    "import pandas as pd\n",
    "pd.set_option('display.max_rows',None)\n",
    "data = {\"Angle(degrees)\":theta, \"Displacement(mm)\" :displacement,\"Velocity(mm/s)\":velocity}\n",
    "df = pd.DataFrame(data) \n",
    "df "
   ]
  },
  {
   "cell_type": "code",
   "execution_count": null,
   "metadata": {},
   "outputs": [],
   "source": []
  }
 ],
 "metadata": {
  "kernelspec": {
   "name": "python39164bit1e36f7458f1f4f74b8da2e003986d781",
   "display_name": "Python 3.9.1 64-bit"
  },
  "language_info": {
   "codemirror_mode": {
    "name": "ipython",
    "version": 3
   },
   "file_extension": ".py",
   "mimetype": "text/x-python",
   "name": "python",
   "nbconvert_exporter": "python",
   "pygments_lexer": "ipython3",
   "version": "3.9.1"
  },
  "metadata": {
   "interpreter": {
    "hash": "03c521ec6a7c1f2bb0a425da36e82c272cedc1c735e542cb093c70f197f8e5c7"
   }
  }
 },
 "nbformat": 4,
 "nbformat_minor": 4
}